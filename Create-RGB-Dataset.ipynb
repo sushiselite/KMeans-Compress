{
 "cells": [
  {
   "cell_type": "code",
   "execution_count": 2,
   "metadata": {},
   "outputs": [],
   "source": [
    "import pandas as pd\n",
    "from PIL import Image\n",
    "\n",
    "# Load the image\n",
    "image_path = 'base.jpg'\n",
    "image = Image.open(image_path)\n",
    "\n",
    "# Convert the image to RGB mode if needed\n",
    "image = image.convert('RGB')\n",
    "\n",
    "# Get the width and height of the image\n",
    "width, height = image.size\n",
    "\n",
    "# Extract RGB values from each pixel in the image\n",
    "rgb_values = []\n",
    "for y in range(height):\n",
    "    for x in range(width):\n",
    "        r, g, b = image.getpixel((x, y))\n",
    "        rgb_values.append([r, g, b])\n",
    "\n",
    "# Create a DataFrame from the RGB values\n",
    "df = pd.DataFrame(rgb_values, columns=['Red', 'Green', 'Blue'])\n",
    "\n",
    "# Save the DataFrame to a CSV file\n",
    "output_path = 'C:\\\\Users\\\\Advay\\\\Desktop\\\\stat107\\\\advayg2\\\\project2\\\\datasetRGB.csv'\n",
    "df.to_csv(output_path, index=False)"
   ]
  }
 ],
 "metadata": {
  "kernelspec": {
   "display_name": "Python 3",
   "language": "python",
   "name": "python3"
  },
  "language_info": {
   "codemirror_mode": {
    "name": "ipython",
    "version": 3
   },
   "file_extension": ".py",
   "mimetype": "text/x-python",
   "name": "python",
   "nbconvert_exporter": "python",
   "pygments_lexer": "ipython3",
   "version": "3.11.1"
  },
  "orig_nbformat": 4
 },
 "nbformat": 4,
 "nbformat_minor": 2
}
