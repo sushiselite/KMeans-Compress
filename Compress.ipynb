{
 "cells": [
  {
   "cell_type": "code",
   "execution_count": 11,
   "metadata": {},
   "outputs": [],
   "source": [
    "import pandas as pd\n",
    "import numpy as np\n",
    "import matplotlib.pyplot as plt\n",
    "from multiprocessing import Pool\n",
    "import random"
   ]
  },
  {
   "cell_type": "code",
   "execution_count": 2,
   "metadata": {},
   "outputs": [],
   "source": [
    "df = pd.read_csv('datasetRGB.csv')\n",
    "image_array = df[['Red', 'Green', 'Blue']].values"
   ]
  },
  {
   "cell_type": "code",
   "execution_count": null,
   "metadata": {},
   "outputs": [],
   "source": [
    "import numpy as np\n",
    "import random\n",
    "import multiprocessing as mp\n",
    "\n",
    "def assign_pixels_to_clusters(pixels, cluster_centers):\n",
    "    distances = np.linalg.norm(pixels[:, np.newaxis] - cluster_centers, axis=2)\n",
    "    return np.argmin(distances, axis=1)\n",
    "\n",
    "def calculate_local_sums(args):\n",
    "    local_pixels, assignments, k = args\n",
    "    local_sums = np.zeros((k, 3))\n",
    "    for i in range(k):\n",
    "        cluster_pixels = local_pixels[assignments == i]\n",
    "        if len(cluster_pixels) > 0:\n",
    "            local_sums[i] = np.sum(cluster_pixels, axis=0)\n",
    "    return local_sums\n",
    "\n",
    "def kmeans_parallel(image_pixels, k, iterations, num_processes):\n",
    "    pool = mp.Pool(processes=num_processes)\n",
    "\n",
    "    # Randomly select initial cluster centers\n",
    "    random_indices = random.sample(range(len(image_pixels)), k)\n",
    "    cluster_centers = [image_pixels[i] for i in random_indices]\n",
    "\n",
    "    for _ in range(iterations):\n",
    "        # Assign each pixel to the closest cluster\n",
    "        assignments = assign_pixels_to_clusters(image_pixels, cluster_centers)\n",
    "\n",
    "        # Divide pixels and assignments among processes\n",
    "        split_size = len(image_pixels) // num_processes\n",
    "        split_pixels = [image_pixels[i:i+split_size] for i in range(0, len(image_pixels), split_size)]\n",
    "        split_assignments = [assignments[i:i+split_size] for i in range(0, len(assignments), split_size)]\n",
    "\n",
    "        # Calculate local sums for each cluster in parallel\n",
    "        local_sums = pool.map(calculate_local_sums, zip(split_pixels, split_assignments, [k]*num_processes))\n",
    "\n",
    "        # Reduce local sums to find global cluster centers\n",
    "        global_sums = np.sum(local_sums, axis=0)\n",
    "        cluster_sizes = np.maximum([np.sum(assignments == i) for i in range(k)], 1)\n",
    "        cluster_centers = global_sums / cluster_sizes[:, np.newaxis]\n",
    "\n",
    "    # Save final cluster centers to a text file\n",
    "    with open('final_cluster_centers.txt', 'w') as f:\n",
    "        for center in cluster_centers:\n",
    "            f.write(' '.join(map(str, center)) + '\\n')\n",
    "\n",
    "    # Iterate each pixel of the original image and cluster them according to the final cluster centers\n",
    "    compressed_pixels = np.zeros_like(image_pixels)\n",
    "    for i in range(len(image_pixels)):\n",
    "        distances = np.linalg.norm(image_pixels[i] - cluster_centers, axis=1)\n",
    "        compressed_pixels[i] = cluster_centers[np.argmin(distances)]\n",
    "\n",
    "    # Reshape the compressed pixels to the original image shape\n",
    "    compressed_image = compressed_pixels.reshape(image_shape)\n",
    "    compressed_image.save(compressed.jpg)\n",
    "\n",
    "if __name__ == '__main__':\n",
    "    # Load the image and convert it to a matrix of RGB values\n",
    "    image = image_array  # Load your image using a suitable library\n",
    "    image_shape = image.shape\n",
    "    image_pixels = image.reshape(-1, 3)\n",
    "\n",
    "    # Specify the number of clusters (k), iterations, and number of processes\n",
    "    k = 5\n",
    "    iterations = 10\n",
    "    num_processes = 4\n",
    "\n",
    "    # Perform k-means clustering in parallel\n",
    "    kmeans_parallel(image_pixels, k, iterations, num_processes)\n"
   ]
  }
 ],
 "metadata": {
  "kernelspec": {
   "display_name": "Python 3",
   "language": "python",
   "name": "python3"
  },
  "language_info": {
   "codemirror_mode": {
    "name": "ipython",
    "version": 3
   },
   "file_extension": ".py",
   "mimetype": "text/x-python",
   "name": "python",
   "nbconvert_exporter": "python",
   "pygments_lexer": "ipython3",
   "version": "3.11.1"
  },
  "orig_nbformat": 4
 },
 "nbformat": 4,
 "nbformat_minor": 2
}
